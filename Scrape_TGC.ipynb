{
 "cells": [
  {
   "cell_type": "markdown",
   "metadata": {},
   "source": [
    "# Web Scrapping of The Great Cources Plus with R"
   ]
  },
  {
   "cell_type": "markdown",
   "metadata": {},
   "source": [
    "## Loading required packages"
   ]
  },
  {
   "cell_type": "code",
   "execution_count": 2,
   "metadata": {},
   "outputs": [],
   "source": [
    "library(httr)\n",
    "library(dplyr)\n",
    "library(xml2)\n",
    "library(rvest)\n",
    "library(RSelenium)\n",
    "library(stringr)\n",
    "library(googledrive)"
   ]
  },
  {
   "cell_type": "markdown",
   "metadata": {},
   "source": [
    "## Entering course information"
   ]
  },
  {
   "cell_type": "code",
   "execution_count": null,
   "metadata": {},
   "outputs": [],
   "source": [
    "course_url <- \"https://www.thegreatcoursesplus.com/understanding-calculus\"\n",
    "user_email <- \"sample@email.com\"\n",
    "user_password <- \"sample_password\"\n",
    "#gd <- drive_get(\"Understanding Calculus: Problems, Solutions and Tips\") "
   ]
  },
  {
   "cell_type": "markdown",
   "metadata": {},
   "source": [
    "## Getting the lecture informations of the course"
   ]
  },
  {
   "cell_type": "code",
   "execution_count": 6,
   "metadata": {},
   "outputs": [
    {
     "data": {
      "text/html": [
       "36"
      ],
      "text/latex": [
       "36"
      ],
      "text/markdown": [
       "36"
      ],
      "text/plain": [
       "[1] 36"
      ]
     },
     "metadata": {},
     "output_type": "display_data"
    },
    {
     "data": {
      "text/html": [
       "<table>\n",
       "<thead><tr><th scope=col>Title</th><th scope=col>URL</th></tr></thead>\n",
       "<tbody>\n",
       "\t<tr><td>A Preview of Calculus                                                                       </td><td>https://www.thegreatcoursesplus.com/embed/player?filmId=0000014c-ca3f-d119-af4d-ca3fbc950000</td></tr>\n",
       "\t<tr><td>Review—Graphs, Models, and Functions                                                        </td><td>https://www.thegreatcoursesplus.com/embed/player?filmId=0000014c-ca3f-d119-af4d-ca3fe6770000</td></tr>\n",
       "\t<tr><td>Review—Functions and Trigonometry                                                           </td><td>https://www.thegreatcoursesplus.com/embed/player?filmId=0000014c-ca40-d119-af4d-ca55125b0000</td></tr>\n",
       "\t<tr><td>Finding Limits                                                                              </td><td>https://www.thegreatcoursesplus.com/embed/player?filmId=0000014c-ca40-d119-af4d-ca553d940000</td></tr>\n",
       "\t<tr><td>An Introduction to Continuity                                                               </td><td>https://www.thegreatcoursesplus.com/embed/player?filmId=0000014c-ca40-d119-af4d-ca5566ed0000</td></tr>\n",
       "\t<tr><td>Infinite Limits and Limits at Infinity                                                      </td><td>https://www.thegreatcoursesplus.com/embed/player?filmId=0000014c-ca40-d119-af4d-ca5590160000</td></tr>\n",
       "\t<tr><td>The Derivative and the Tangent Line Problem                                                 </td><td>https://www.thegreatcoursesplus.com/embed/player?filmId=0000014c-ca40-d119-af4d-ca55bade0000</td></tr>\n",
       "\t<tr><td>Basic Differentiation Rules                                                                 </td><td>https://www.thegreatcoursesplus.com/embed/player?filmId=0000014c-ca40-d119-af4d-ca55e70c0000</td></tr>\n",
       "\t<tr><td>Product and Quotient Rules                                                                  </td><td>https://www.thegreatcoursesplus.com/embed/player?filmId=0000014c-ca41-d119-af4d-ca55164f0000</td></tr>\n",
       "\t<tr><td>The Chain Rule                                                                              </td><td>https://www.thegreatcoursesplus.com/embed/player?filmId=0000014c-ca41-d119-af4d-ca55403d0000</td></tr>\n",
       "\t<tr><td>Implicit Differentiation and Related Rates                                                  </td><td>https://www.thegreatcoursesplus.com/embed/player?filmId=0000014c-ca41-d119-af4d-ca556f6c0000</td></tr>\n",
       "\t<tr><td>Extrema on an Interval                                                                      </td><td>https://www.thegreatcoursesplus.com/embed/player?filmId=0000014c-ca41-d119-af4d-ca55a5380000</td></tr>\n",
       "\t<tr><td>Increasing and Decreasing Functions                                                         </td><td>https://www.thegreatcoursesplus.com/embed/player?filmId=0000014c-ca41-d119-af4d-ca55d69a0000</td></tr>\n",
       "\t<tr><td>Concavity and Points of Inflection                                                          </td><td>https://www.thegreatcoursesplus.com/embed/player?filmId=0000014c-ca42-d119-af4d-ca57060b0000</td></tr>\n",
       "\t<tr><td>Curve Sketching and Linear Approximations                                                   </td><td>https://www.thegreatcoursesplus.com/embed/player?filmId=0000014c-ca42-d119-af4d-ca5733c20000</td></tr>\n",
       "\t<tr><td>Applications—Optimization Problems, Part 1                                                  </td><td>https://www.thegreatcoursesplus.com/embed/player?filmId=0000014c-ca42-d119-af4d-ca5761140000</td></tr>\n",
       "\t<tr><td>Applications—Optimization Problems, Part 2                                                  </td><td>https://www.thegreatcoursesplus.com/embed/player?filmId=0000014c-ca42-d119-af4d-ca5798550000</td></tr>\n",
       "\t<tr><td>Antiderivatives and Basic Integration Rules                                                 </td><td>https://www.thegreatcoursesplus.com/embed/player?filmId=0000014c-ca42-d119-af4d-ca57c3450000</td></tr>\n",
       "\t<tr><td>The Area Problem and the Definite Integral                                                  </td><td>https://www.thegreatcoursesplus.com/embed/player?filmId=0000014c-ca42-d119-af4d-ca57f1910000</td></tr>\n",
       "\t<tr><td>The Fundamental Theorem of Calculus, Part 1                                                 </td><td>https://www.thegreatcoursesplus.com/embed/player?filmId=0000014c-ca43-d119-af4d-ca571fa30000</td></tr>\n",
       "\t<tr><td>The Fundamental Theorem of Calculus, Part 2                                                 </td><td>https://www.thegreatcoursesplus.com/embed/player?filmId=0000014c-ca43-d119-af4d-ca574e380000</td></tr>\n",
       "\t<tr><td>Integration by Substitution                                                                 </td><td>https://www.thegreatcoursesplus.com/embed/player?filmId=0000014c-ca43-d119-af4d-ca577bbe0000</td></tr>\n",
       "\t<tr><td>Numerical Integration                                                                       </td><td>https://www.thegreatcoursesplus.com/embed/player?filmId=0000014c-ca43-d119-af4d-ca57a8770000</td></tr>\n",
       "\t<tr><td>Natural Logarithmic Function—Differentiation                                                </td><td>https://www.thegreatcoursesplus.com/embed/player?filmId=0000014c-ca43-d119-af4d-ca57d6230000</td></tr>\n",
       "\t<tr><td>Natural Logarithmic Function—Integration                                                    </td><td>https://www.thegreatcoursesplus.com/embed/player?filmId=0000014c-ca44-d119-af4d-ca550aec0000</td></tr>\n",
       "\t<tr><td>Exponential Function                                                                        </td><td>https://www.thegreatcoursesplus.com/embed/player?filmId=0000014c-ca44-d119-af4d-ca553fed0000</td></tr>\n",
       "\t<tr><td>Bases other than e                                                                          </td><td>https://www.thegreatcoursesplus.com/embed/player?filmId=0000014c-ca44-d119-af4d-ca556c490000</td></tr>\n",
       "\t<tr><td>Inverse Trigonometric Functions                                                             </td><td>https://www.thegreatcoursesplus.com/embed/player?filmId=0000014c-ca44-d119-af4d-ca5599330000</td></tr>\n",
       "\t<tr><td>Area of a Region between 2 Curves                                                           </td><td>https://www.thegreatcoursesplus.com/embed/player?filmId=0000014c-ca44-d119-af4d-ca55c9190000</td></tr>\n",
       "\t<tr><td>Volume—The Disk Method                                                                      </td><td>https://www.thegreatcoursesplus.com/embed/player?filmId=0000014c-ca44-d119-af4d-ca55f8ac0000</td></tr>\n",
       "\t<tr><td>Volume—The Shell Method                                                                     </td><td>https://www.thegreatcoursesplus.com/embed/player?filmId=0000014c-ca45-d119-af4d-ca552bb30000</td></tr>\n",
       "\t<tr><td>Applications—Arc Length and Surface Area                                                    </td><td>https://www.thegreatcoursesplus.com/embed/player?filmId=0000014c-ca45-d119-af4d-ca555c850000</td></tr>\n",
       "\t<tr><td>Basic Integration Rules                                                                     </td><td>https://www.thegreatcoursesplus.com/embed/player?filmId=0000014c-ca45-d119-af4d-ca558b490000</td></tr>\n",
       "\t<tr><td>Other Techniques of Integration                                                             </td><td>https://www.thegreatcoursesplus.com/embed/player?filmId=0000014c-ca45-d119-af4d-ca55ba150000</td></tr>\n",
       "\t<tr><td>Differential Equations and Slope Fields                                                     </td><td>https://www.thegreatcoursesplus.com/embed/player?filmId=0000014c-ca45-d119-af4d-ca55ec8b0000</td></tr>\n",
       "\t<tr><td>Applications of Differential Equations                                                      </td><td>https://www.thegreatcoursesplus.com/embed/player?filmId=0000014c-ca46-d119-af4d-ca5717720000</td></tr>\n",
       "</tbody>\n",
       "</table>\n"
      ],
      "text/latex": [
       "\\begin{tabular}{r|ll}\n",
       " Title & URL\\\\\n",
       "\\hline\n",
       "\t A Preview of Calculus                                                                        & https://www.thegreatcoursesplus.com/embed/player?filmId=0000014c-ca3f-d119-af4d-ca3fbc950000\\\\\n",
       "\t Review—Graphs, Models, and Functions                                                         & https://www.thegreatcoursesplus.com/embed/player?filmId=0000014c-ca3f-d119-af4d-ca3fe6770000\\\\\n",
       "\t Review—Functions and Trigonometry                                                            & https://www.thegreatcoursesplus.com/embed/player?filmId=0000014c-ca40-d119-af4d-ca55125b0000\\\\\n",
       "\t Finding Limits                                                                               & https://www.thegreatcoursesplus.com/embed/player?filmId=0000014c-ca40-d119-af4d-ca553d940000\\\\\n",
       "\t An Introduction to Continuity                                                                & https://www.thegreatcoursesplus.com/embed/player?filmId=0000014c-ca40-d119-af4d-ca5566ed0000\\\\\n",
       "\t Infinite Limits and Limits at Infinity                                                       & https://www.thegreatcoursesplus.com/embed/player?filmId=0000014c-ca40-d119-af4d-ca5590160000\\\\\n",
       "\t The Derivative and the Tangent Line Problem                                                  & https://www.thegreatcoursesplus.com/embed/player?filmId=0000014c-ca40-d119-af4d-ca55bade0000\\\\\n",
       "\t Basic Differentiation Rules                                                                  & https://www.thegreatcoursesplus.com/embed/player?filmId=0000014c-ca40-d119-af4d-ca55e70c0000\\\\\n",
       "\t Product and Quotient Rules                                                                   & https://www.thegreatcoursesplus.com/embed/player?filmId=0000014c-ca41-d119-af4d-ca55164f0000\\\\\n",
       "\t The Chain Rule                                                                               & https://www.thegreatcoursesplus.com/embed/player?filmId=0000014c-ca41-d119-af4d-ca55403d0000\\\\\n",
       "\t Implicit Differentiation and Related Rates                                                   & https://www.thegreatcoursesplus.com/embed/player?filmId=0000014c-ca41-d119-af4d-ca556f6c0000\\\\\n",
       "\t Extrema on an Interval                                                                       & https://www.thegreatcoursesplus.com/embed/player?filmId=0000014c-ca41-d119-af4d-ca55a5380000\\\\\n",
       "\t Increasing and Decreasing Functions                                                          & https://www.thegreatcoursesplus.com/embed/player?filmId=0000014c-ca41-d119-af4d-ca55d69a0000\\\\\n",
       "\t Concavity and Points of Inflection                                                           & https://www.thegreatcoursesplus.com/embed/player?filmId=0000014c-ca42-d119-af4d-ca57060b0000\\\\\n",
       "\t Curve Sketching and Linear Approximations                                                    & https://www.thegreatcoursesplus.com/embed/player?filmId=0000014c-ca42-d119-af4d-ca5733c20000\\\\\n",
       "\t Applications—Optimization Problems, Part 1                                                   & https://www.thegreatcoursesplus.com/embed/player?filmId=0000014c-ca42-d119-af4d-ca5761140000\\\\\n",
       "\t Applications—Optimization Problems, Part 2                                                   & https://www.thegreatcoursesplus.com/embed/player?filmId=0000014c-ca42-d119-af4d-ca5798550000\\\\\n",
       "\t Antiderivatives and Basic Integration Rules                                                  & https://www.thegreatcoursesplus.com/embed/player?filmId=0000014c-ca42-d119-af4d-ca57c3450000\\\\\n",
       "\t The Area Problem and the Definite Integral                                                   & https://www.thegreatcoursesplus.com/embed/player?filmId=0000014c-ca42-d119-af4d-ca57f1910000\\\\\n",
       "\t The Fundamental Theorem of Calculus, Part 1                                                  & https://www.thegreatcoursesplus.com/embed/player?filmId=0000014c-ca43-d119-af4d-ca571fa30000\\\\\n",
       "\t The Fundamental Theorem of Calculus, Part 2                                                  & https://www.thegreatcoursesplus.com/embed/player?filmId=0000014c-ca43-d119-af4d-ca574e380000\\\\\n",
       "\t Integration by Substitution                                                                  & https://www.thegreatcoursesplus.com/embed/player?filmId=0000014c-ca43-d119-af4d-ca577bbe0000\\\\\n",
       "\t Numerical Integration                                                                        & https://www.thegreatcoursesplus.com/embed/player?filmId=0000014c-ca43-d119-af4d-ca57a8770000\\\\\n",
       "\t Natural Logarithmic Function—Differentiation                                                 & https://www.thegreatcoursesplus.com/embed/player?filmId=0000014c-ca43-d119-af4d-ca57d6230000\\\\\n",
       "\t Natural Logarithmic Function—Integration                                                     & https://www.thegreatcoursesplus.com/embed/player?filmId=0000014c-ca44-d119-af4d-ca550aec0000\\\\\n",
       "\t Exponential Function                                                                         & https://www.thegreatcoursesplus.com/embed/player?filmId=0000014c-ca44-d119-af4d-ca553fed0000\\\\\n",
       "\t Bases other than e                                                                           & https://www.thegreatcoursesplus.com/embed/player?filmId=0000014c-ca44-d119-af4d-ca556c490000\\\\\n",
       "\t Inverse Trigonometric Functions                                                              & https://www.thegreatcoursesplus.com/embed/player?filmId=0000014c-ca44-d119-af4d-ca5599330000\\\\\n",
       "\t Area of a Region between 2 Curves                                                            & https://www.thegreatcoursesplus.com/embed/player?filmId=0000014c-ca44-d119-af4d-ca55c9190000\\\\\n",
       "\t Volume—The Disk Method                                                                       & https://www.thegreatcoursesplus.com/embed/player?filmId=0000014c-ca44-d119-af4d-ca55f8ac0000\\\\\n",
       "\t Volume—The Shell Method                                                                      & https://www.thegreatcoursesplus.com/embed/player?filmId=0000014c-ca45-d119-af4d-ca552bb30000\\\\\n",
       "\t Applications—Arc Length and Surface Area                                                     & https://www.thegreatcoursesplus.com/embed/player?filmId=0000014c-ca45-d119-af4d-ca555c850000\\\\\n",
       "\t Basic Integration Rules                                                                      & https://www.thegreatcoursesplus.com/embed/player?filmId=0000014c-ca45-d119-af4d-ca558b490000\\\\\n",
       "\t Other Techniques of Integration                                                              & https://www.thegreatcoursesplus.com/embed/player?filmId=0000014c-ca45-d119-af4d-ca55ba150000\\\\\n",
       "\t Differential Equations and Slope Fields                                                      & https://www.thegreatcoursesplus.com/embed/player?filmId=0000014c-ca45-d119-af4d-ca55ec8b0000\\\\\n",
       "\t Applications of Differential Equations                                                       & https://www.thegreatcoursesplus.com/embed/player?filmId=0000014c-ca46-d119-af4d-ca5717720000\\\\\n",
       "\\end{tabular}\n"
      ],
      "text/markdown": [
       "\n",
       "Title | URL | \n",
       "|---|---|---|---|---|---|---|---|---|---|---|---|---|---|---|---|---|---|---|---|---|---|---|---|---|---|---|---|---|---|---|---|---|---|---|---|\n",
       "| A Preview of Calculus                                                                        | https://www.thegreatcoursesplus.com/embed/player?filmId=0000014c-ca3f-d119-af4d-ca3fbc950000 | \n",
       "| Review—Graphs, Models, and Functions                                                         | https://www.thegreatcoursesplus.com/embed/player?filmId=0000014c-ca3f-d119-af4d-ca3fe6770000 | \n",
       "| Review—Functions and Trigonometry                                                            | https://www.thegreatcoursesplus.com/embed/player?filmId=0000014c-ca40-d119-af4d-ca55125b0000 | \n",
       "| Finding Limits                                                                               | https://www.thegreatcoursesplus.com/embed/player?filmId=0000014c-ca40-d119-af4d-ca553d940000 | \n",
       "| An Introduction to Continuity                                                                | https://www.thegreatcoursesplus.com/embed/player?filmId=0000014c-ca40-d119-af4d-ca5566ed0000 | \n",
       "| Infinite Limits and Limits at Infinity                                                       | https://www.thegreatcoursesplus.com/embed/player?filmId=0000014c-ca40-d119-af4d-ca5590160000 | \n",
       "| The Derivative and the Tangent Line Problem                                                  | https://www.thegreatcoursesplus.com/embed/player?filmId=0000014c-ca40-d119-af4d-ca55bade0000 | \n",
       "| Basic Differentiation Rules                                                                  | https://www.thegreatcoursesplus.com/embed/player?filmId=0000014c-ca40-d119-af4d-ca55e70c0000 | \n",
       "| Product and Quotient Rules                                                                   | https://www.thegreatcoursesplus.com/embed/player?filmId=0000014c-ca41-d119-af4d-ca55164f0000 | \n",
       "| The Chain Rule                                                                               | https://www.thegreatcoursesplus.com/embed/player?filmId=0000014c-ca41-d119-af4d-ca55403d0000 | \n",
       "| Implicit Differentiation and Related Rates                                                   | https://www.thegreatcoursesplus.com/embed/player?filmId=0000014c-ca41-d119-af4d-ca556f6c0000 | \n",
       "| Extrema on an Interval                                                                       | https://www.thegreatcoursesplus.com/embed/player?filmId=0000014c-ca41-d119-af4d-ca55a5380000 | \n",
       "| Increasing and Decreasing Functions                                                          | https://www.thegreatcoursesplus.com/embed/player?filmId=0000014c-ca41-d119-af4d-ca55d69a0000 | \n",
       "| Concavity and Points of Inflection                                                           | https://www.thegreatcoursesplus.com/embed/player?filmId=0000014c-ca42-d119-af4d-ca57060b0000 | \n",
       "| Curve Sketching and Linear Approximations                                                    | https://www.thegreatcoursesplus.com/embed/player?filmId=0000014c-ca42-d119-af4d-ca5733c20000 | \n",
       "| Applications—Optimization Problems, Part 1                                                   | https://www.thegreatcoursesplus.com/embed/player?filmId=0000014c-ca42-d119-af4d-ca5761140000 | \n",
       "| Applications—Optimization Problems, Part 2                                                   | https://www.thegreatcoursesplus.com/embed/player?filmId=0000014c-ca42-d119-af4d-ca5798550000 | \n",
       "| Antiderivatives and Basic Integration Rules                                                  | https://www.thegreatcoursesplus.com/embed/player?filmId=0000014c-ca42-d119-af4d-ca57c3450000 | \n",
       "| The Area Problem and the Definite Integral                                                   | https://www.thegreatcoursesplus.com/embed/player?filmId=0000014c-ca42-d119-af4d-ca57f1910000 | \n",
       "| The Fundamental Theorem of Calculus, Part 1                                                  | https://www.thegreatcoursesplus.com/embed/player?filmId=0000014c-ca43-d119-af4d-ca571fa30000 | \n",
       "| The Fundamental Theorem of Calculus, Part 2                                                  | https://www.thegreatcoursesplus.com/embed/player?filmId=0000014c-ca43-d119-af4d-ca574e380000 | \n",
       "| Integration by Substitution                                                                  | https://www.thegreatcoursesplus.com/embed/player?filmId=0000014c-ca43-d119-af4d-ca577bbe0000 | \n",
       "| Numerical Integration                                                                        | https://www.thegreatcoursesplus.com/embed/player?filmId=0000014c-ca43-d119-af4d-ca57a8770000 | \n",
       "| Natural Logarithmic Function—Differentiation                                                 | https://www.thegreatcoursesplus.com/embed/player?filmId=0000014c-ca43-d119-af4d-ca57d6230000 | \n",
       "| Natural Logarithmic Function—Integration                                                     | https://www.thegreatcoursesplus.com/embed/player?filmId=0000014c-ca44-d119-af4d-ca550aec0000 | \n",
       "| Exponential Function                                                                         | https://www.thegreatcoursesplus.com/embed/player?filmId=0000014c-ca44-d119-af4d-ca553fed0000 | \n",
       "| Bases other than e                                                                           | https://www.thegreatcoursesplus.com/embed/player?filmId=0000014c-ca44-d119-af4d-ca556c490000 | \n",
       "| Inverse Trigonometric Functions                                                              | https://www.thegreatcoursesplus.com/embed/player?filmId=0000014c-ca44-d119-af4d-ca5599330000 | \n",
       "| Area of a Region between 2 Curves                                                            | https://www.thegreatcoursesplus.com/embed/player?filmId=0000014c-ca44-d119-af4d-ca55c9190000 | \n",
       "| Volume—The Disk Method                                                                       | https://www.thegreatcoursesplus.com/embed/player?filmId=0000014c-ca44-d119-af4d-ca55f8ac0000 | \n",
       "| Volume—The Shell Method                                                                      | https://www.thegreatcoursesplus.com/embed/player?filmId=0000014c-ca45-d119-af4d-ca552bb30000 | \n",
       "| Applications—Arc Length and Surface Area                                                     | https://www.thegreatcoursesplus.com/embed/player?filmId=0000014c-ca45-d119-af4d-ca555c850000 | \n",
       "| Basic Integration Rules                                                                      | https://www.thegreatcoursesplus.com/embed/player?filmId=0000014c-ca45-d119-af4d-ca558b490000 | \n",
       "| Other Techniques of Integration                                                              | https://www.thegreatcoursesplus.com/embed/player?filmId=0000014c-ca45-d119-af4d-ca55ba150000 | \n",
       "| Differential Equations and Slope Fields                                                      | https://www.thegreatcoursesplus.com/embed/player?filmId=0000014c-ca45-d119-af4d-ca55ec8b0000 | \n",
       "| Applications of Differential Equations                                                       | https://www.thegreatcoursesplus.com/embed/player?filmId=0000014c-ca46-d119-af4d-ca5717720000 | \n",
       "\n",
       "\n"
      ],
      "text/plain": [
       "   Title                                       \n",
       "1  A Preview of Calculus                       \n",
       "2  Review—Graphs, Models, and Functions        \n",
       "3  Review—Functions and Trigonometry           \n",
       "4  Finding Limits                              \n",
       "5  An Introduction to Continuity               \n",
       "6  Infinite Limits and Limits at Infinity      \n",
       "7  The Derivative and the Tangent Line Problem \n",
       "8  Basic Differentiation Rules                 \n",
       "9  Product and Quotient Rules                  \n",
       "10 The Chain Rule                              \n",
       "11 Implicit Differentiation and Related Rates  \n",
       "12 Extrema on an Interval                      \n",
       "13 Increasing and Decreasing Functions         \n",
       "14 Concavity and Points of Inflection          \n",
       "15 Curve Sketching and Linear Approximations   \n",
       "16 Applications—Optimization Problems, Part 1  \n",
       "17 Applications—Optimization Problems, Part 2  \n",
       "18 Antiderivatives and Basic Integration Rules \n",
       "19 The Area Problem and the Definite Integral  \n",
       "20 The Fundamental Theorem of Calculus, Part 1 \n",
       "21 The Fundamental Theorem of Calculus, Part 2 \n",
       "22 Integration by Substitution                 \n",
       "23 Numerical Integration                       \n",
       "24 Natural Logarithmic Function—Differentiation\n",
       "25 Natural Logarithmic Function—Integration    \n",
       "26 Exponential Function                        \n",
       "27 Bases other than e                          \n",
       "28 Inverse Trigonometric Functions             \n",
       "29 Area of a Region between 2 Curves           \n",
       "30 Volume—The Disk Method                      \n",
       "31 Volume—The Shell Method                     \n",
       "32 Applications—Arc Length and Surface Area    \n",
       "33 Basic Integration Rules                     \n",
       "34 Other Techniques of Integration             \n",
       "35 Differential Equations and Slope Fields     \n",
       "36 Applications of Differential Equations      \n",
       "   URL                                                                                         \n",
       "1  https://www.thegreatcoursesplus.com/embed/player?filmId=0000014c-ca3f-d119-af4d-ca3fbc950000\n",
       "2  https://www.thegreatcoursesplus.com/embed/player?filmId=0000014c-ca3f-d119-af4d-ca3fe6770000\n",
       "3  https://www.thegreatcoursesplus.com/embed/player?filmId=0000014c-ca40-d119-af4d-ca55125b0000\n",
       "4  https://www.thegreatcoursesplus.com/embed/player?filmId=0000014c-ca40-d119-af4d-ca553d940000\n",
       "5  https://www.thegreatcoursesplus.com/embed/player?filmId=0000014c-ca40-d119-af4d-ca5566ed0000\n",
       "6  https://www.thegreatcoursesplus.com/embed/player?filmId=0000014c-ca40-d119-af4d-ca5590160000\n",
       "7  https://www.thegreatcoursesplus.com/embed/player?filmId=0000014c-ca40-d119-af4d-ca55bade0000\n",
       "8  https://www.thegreatcoursesplus.com/embed/player?filmId=0000014c-ca40-d119-af4d-ca55e70c0000\n",
       "9  https://www.thegreatcoursesplus.com/embed/player?filmId=0000014c-ca41-d119-af4d-ca55164f0000\n",
       "10 https://www.thegreatcoursesplus.com/embed/player?filmId=0000014c-ca41-d119-af4d-ca55403d0000\n",
       "11 https://www.thegreatcoursesplus.com/embed/player?filmId=0000014c-ca41-d119-af4d-ca556f6c0000\n",
       "12 https://www.thegreatcoursesplus.com/embed/player?filmId=0000014c-ca41-d119-af4d-ca55a5380000\n",
       "13 https://www.thegreatcoursesplus.com/embed/player?filmId=0000014c-ca41-d119-af4d-ca55d69a0000\n",
       "14 https://www.thegreatcoursesplus.com/embed/player?filmId=0000014c-ca42-d119-af4d-ca57060b0000\n",
       "15 https://www.thegreatcoursesplus.com/embed/player?filmId=0000014c-ca42-d119-af4d-ca5733c20000\n",
       "16 https://www.thegreatcoursesplus.com/embed/player?filmId=0000014c-ca42-d119-af4d-ca5761140000\n",
       "17 https://www.thegreatcoursesplus.com/embed/player?filmId=0000014c-ca42-d119-af4d-ca5798550000\n",
       "18 https://www.thegreatcoursesplus.com/embed/player?filmId=0000014c-ca42-d119-af4d-ca57c3450000\n",
       "19 https://www.thegreatcoursesplus.com/embed/player?filmId=0000014c-ca42-d119-af4d-ca57f1910000\n",
       "20 https://www.thegreatcoursesplus.com/embed/player?filmId=0000014c-ca43-d119-af4d-ca571fa30000\n",
       "21 https://www.thegreatcoursesplus.com/embed/player?filmId=0000014c-ca43-d119-af4d-ca574e380000\n",
       "22 https://www.thegreatcoursesplus.com/embed/player?filmId=0000014c-ca43-d119-af4d-ca577bbe0000\n",
       "23 https://www.thegreatcoursesplus.com/embed/player?filmId=0000014c-ca43-d119-af4d-ca57a8770000\n",
       "24 https://www.thegreatcoursesplus.com/embed/player?filmId=0000014c-ca43-d119-af4d-ca57d6230000\n",
       "25 https://www.thegreatcoursesplus.com/embed/player?filmId=0000014c-ca44-d119-af4d-ca550aec0000\n",
       "26 https://www.thegreatcoursesplus.com/embed/player?filmId=0000014c-ca44-d119-af4d-ca553fed0000\n",
       "27 https://www.thegreatcoursesplus.com/embed/player?filmId=0000014c-ca44-d119-af4d-ca556c490000\n",
       "28 https://www.thegreatcoursesplus.com/embed/player?filmId=0000014c-ca44-d119-af4d-ca5599330000\n",
       "29 https://www.thegreatcoursesplus.com/embed/player?filmId=0000014c-ca44-d119-af4d-ca55c9190000\n",
       "30 https://www.thegreatcoursesplus.com/embed/player?filmId=0000014c-ca44-d119-af4d-ca55f8ac0000\n",
       "31 https://www.thegreatcoursesplus.com/embed/player?filmId=0000014c-ca45-d119-af4d-ca552bb30000\n",
       "32 https://www.thegreatcoursesplus.com/embed/player?filmId=0000014c-ca45-d119-af4d-ca555c850000\n",
       "33 https://www.thegreatcoursesplus.com/embed/player?filmId=0000014c-ca45-d119-af4d-ca558b490000\n",
       "34 https://www.thegreatcoursesplus.com/embed/player?filmId=0000014c-ca45-d119-af4d-ca55ba150000\n",
       "35 https://www.thegreatcoursesplus.com/embed/player?filmId=0000014c-ca45-d119-af4d-ca55ec8b0000\n",
       "36 https://www.thegreatcoursesplus.com/embed/player?filmId=0000014c-ca46-d119-af4d-ca5717720000"
      ]
     },
     "metadata": {},
     "output_type": "display_data"
    }
   ],
   "source": [
    "page <- read_html(course_url)\n",
    "num_lec <- page %>%\n",
    "            html_nodes(xpath = '//*[@id=\"page-content\"]/section/div[3]/div[2]/div/div/div/h2') %>%\n",
    "            html_text() %>%\n",
    "            strsplit(x = ., split = \" \")\n",
    "num <- as.numeric(num_lec[[1]][1])\n",
    "\n",
    "title <- c()\n",
    "id <- c()\n",
    "for(i in 1:num){\n",
    "    film_title <- page %>%\n",
    "        html_nodes(xpath = paste0('//*[@id=\"page-content\"]/section/div[3]/div[2]/div/div/div/div/a[', i, ']/div[4]/div[1]')) %>%\n",
    "        html_text()\n",
    "    title[i] <- film_title\n",
    "    \n",
    "    film_id <- page %>%\n",
    "        html_nodes(xpath = paste0('//*[@id=\"page-content\"]/section/div[3]/div[2]/div/div/div/div/a[', i, ']/div[3]/div')) %>%\n",
    "        html_attr(\"data-object-id\")\n",
    "    id[i] <- film_id\n",
    "}\n",
    "tbl <- data.frame(Title = title, URL = paste0(\"https://www.thegreatcoursesplus.com/embed/player?filmId=\", id))\n",
    "nrow(tbl)\n",
    "tbl"
   ]
  },
  {
   "cell_type": "markdown",
   "metadata": {},
   "source": [
    "## Navigating to the \"The Great Course Plus\" homepage and login"
   ]
  },
  {
   "cell_type": "code",
   "execution_count": 15,
   "metadata": {},
   "outputs": [
    {
     "data": {
      "text/html": [
       "<ol>\n",
       "\t<li>'Sign In | The Great Courses Plus'</li>\n",
       "</ol>\n"
      ],
      "text/latex": [
       "\\begin{enumerate}\n",
       "\\item 'Sign In \\textbar{} The Great Courses Plus'\n",
       "\\end{enumerate}\n"
      ],
      "text/markdown": [
       "1. 'Sign In | The Great Courses Plus'\n",
       "\n",
       "\n"
      ],
      "text/plain": [
       "[[1]]\n",
       "[1] \"Sign In | The Great Courses Plus\"\n"
      ]
     },
     "metadata": {},
     "output_type": "display_data"
    }
   ],
   "source": [
    "url <- \"https://www.thegreatcoursesplus.com/sign-in\"\n",
    "rD <- rsDriver(verbose = FALSE)\n",
    "\n",
    "# assign the client to a new variable\n",
    "remDr <- rD$client\n",
    "remDr$navigate(url)\n",
    "email <- remDr$findElement(using=\"xpath\", '//*[@id=\"modal\"]/div/div/div[2]/div[1]/form/p[1]/input')\n",
    "email$sendKeysToElement(list(user_email))\n",
    "password <- remDr$findElement(using=\"xpath\", '//*[@id=\"modal\"]/div/div/div[2]/div[1]/form/p[2]/input')\n",
    "password$sendKeysToElement(list(user_password, key = \"enter\"))\n",
    "remDr$getTitle()"
   ]
  },
  {
   "cell_type": "markdown",
   "metadata": {},
   "source": [
    "## Navigating to the course page and download the course guidebook"
   ]
  },
  {
   "cell_type": "code",
   "execution_count": 9,
   "metadata": {},
   "outputs": [
    {
     "data": {
      "text/html": [
       "<ol>\n",
       "\t<li>'Calculus For Beginners - Online Mathematics Course With | The Great Courses Plus'</li>\n",
       "</ol>\n"
      ],
      "text/latex": [
       "\\begin{enumerate}\n",
       "\\item 'Calculus For Beginners - Online Mathematics Course With \\textbar{} The Great Courses Plus'\n",
       "\\end{enumerate}\n"
      ],
      "text/markdown": [
       "1. 'Calculus For Beginners - Online Mathematics Course With | The Great Courses Plus'\n",
       "\n",
       "\n"
      ],
      "text/plain": [
       "[[1]]\n",
       "[1] \"Calculus For Beginners - Online Mathematics Course With | The Great Courses Plus\"\n"
      ]
     },
     "metadata": {},
     "output_type": "display_data"
    },
    {
     "data": {
      "text/html": [
       "'1007%20Calculus.pdf'"
      ],
      "text/latex": [
       "'1007\\%20Calculus.pdf'"
      ],
      "text/markdown": [
       "'1007%20Calculus.pdf'"
      ],
      "text/plain": [
       "[1] \"1007%20Calculus.pdf\""
      ]
     },
     "metadata": {},
     "output_type": "display_data"
    },
    {
     "data": {
      "text/html": [
       "'1007'"
      ],
      "text/latex": [
       "'1007'"
      ],
      "text/markdown": [
       "'1007'"
      ],
      "text/plain": [
       "[1] \"1007\""
      ]
     },
     "metadata": {},
     "output_type": "display_data"
    }
   ],
   "source": [
    "remDr$navigate(course_url)\n",
    "remDr$getTitle()\n",
    "guidebook_info <- remDr$findElement(using='xpath', '//*[@id=\"page-content\"]/section/div[1]/div/div[2]/div/div[2]/span[1]/a')\n",
    "book_url <- guidebook_info$getElementAttribute(\"href\")\n",
    "(book_title <- str_extract(string = book_url, pattern = \"[0-9]+.*\"))\n",
    "(course_id <- gsub(pattern = \"[%_]\", replacement = \"\", x = str_extract(string = book_title, pattern = \"[0-9]*[%_]\")))"
   ]
  },
  {
   "cell_type": "code",
   "execution_count": 9,
   "metadata": {},
   "outputs": [
    {
     "name": "stderr",
     "output_type": "stream",
     "text": [
      "Local file:\n",
      "  * 1007%20Calculus.pdf\n",
      "uploaded into Drive file:\n",
      "  * 1007%20Calculus.pdf: 1xKMI7c_2fabR4cBTfbbigjavwnj56LGw\n",
      "with MIME type:\n",
      "  * application/pdf\n"
     ]
    },
    {
     "data": {
      "text/html": [
       "TRUE"
      ],
      "text/latex": [
       "TRUE"
      ],
      "text/markdown": [
       "TRUE"
      ],
      "text/plain": [
       "[1] TRUE"
      ]
     },
     "metadata": {},
     "output_type": "display_data"
    }
   ],
   "source": [
    "download.file(url = book_url[[1]], destfile = book_title, method = \"curl\")\n",
    "drive_upload(media = book_title, path = paste0(gd$path, book_title))\n",
    "file.remove(book_title)"
   ]
  },
  {
   "cell_type": "markdown",
   "metadata": {},
   "source": [
    "## Navigating to the lecture video and download the video and subtitle"
   ]
  },
  {
   "cell_type": "code",
   "execution_count": 7,
   "metadata": {},
   "outputs": [],
   "source": [
    "setwd(\"D:/TTL\")"
   ]
  },
  {
   "cell_type": "code",
   "execution_count": 17,
   "metadata": {},
   "outputs": [
    {
     "name": "stdout",
     "output_type": "stream",
     "text": [
      "[1] \"https://vtgcmp4-snagfilms.akamaized.net/video_assets/2015/mp4/understanding-calculus/exponential-function/1148423545001_3696453012001_18170-anon-eastbaymedia-drm-courses-1007-m4v-TGC-1007-Lect26-HighSchoolLevelCalculus.mp4\"\n",
      "[1] \"http://vtgcmp4-snagfilms.akamaized.net/video_assets/2015/mp4/understanding-calculus/exponential-function/1148423545001_3696453012001_18170-anon-eastbaymedia-drm-courses-1007-m4v-TGC-1007-Lect26-HighSchoolLevelCalculus.mp4\"\n",
      "[1] \"http://vtgcmp4-viewlift.akamaized.net/Captions/SRT/1007_SRT/1007_26.srt\"\n",
      "[1] \"https://vtgcmp4-snagfilms.akamaized.net/video_assets/2015/mp4/understanding-calculus/bases-other-than-em-e-em/1148423545001_3696452989001_18170-anon-eastbaymedia-drm-courses-1007-m4v-TGC-1007-Lect27-HighSchoolLevelCalculus.mp4\"\n",
      "[1] \"http://vtgcmp4-snagfilms.akamaized.net/video_assets/2015/mp4/understanding-calculus/bases-other-than-em-e-em/1148423545001_3696452989001_18170-anon-eastbaymedia-drm-courses-1007-m4v-TGC-1007-Lect27-HighSchoolLevelCalculus.mp4\"\n",
      "[1] \"http://vtgcmp4-viewlift.akamaized.net/Captions/SRT/1007_SRT/1007_27.srt\"\n",
      "[1] \"https://vtgcmp4-snagfilms.akamaized.net/video_assets/2015/mp4/understanding-calculus/inverse-trigonometric-functions/1148423545001_3696453040001_18170-anon-eastbaymedia-drm-courses-1007-m4v-TGC-1007-Lect28-HighSchoolLevelCalculus.mp4\"\n",
      "[1] \"http://vtgcmp4-snagfilms.akamaized.net/video_assets/2015/mp4/understanding-calculus/inverse-trigonometric-functions/1148423545001_3696453040001_18170-anon-eastbaymedia-drm-courses-1007-m4v-TGC-1007-Lect28-HighSchoolLevelCalculus.mp4\"\n",
      "[1] \"http://vtgcmp4-viewlift.akamaized.net/Captions/SRT/1007_SRT/1007_28.srt\"\n",
      "[1] \"https://vtgcmp4-snagfilms.akamaized.net/video_assets/2015/mp4/understanding-calculus/area-of-a-region-between-2-curves/1148423545001_3696478882001_18170-anon-eastbaymedia-drm-courses-1007-m4v-TGC-1007-Lect29-HighSchoolLevelCalculus.mp4\"\n",
      "[1] \"http://vtgcmp4-snagfilms.akamaized.net/video_assets/2015/mp4/understanding-calculus/area-of-a-region-between-2-curves/1148423545001_3696478882001_18170-anon-eastbaymedia-drm-courses-1007-m4v-TGC-1007-Lect29-HighSchoolLevelCalculus.mp4\"\n",
      "[1] \"http://vtgcmp4-viewlift.akamaized.net/Captions/SRT/1007_SRT/1007_29.srt\"\n",
      "[1] \"https://vtgcmp4-snagfilms.akamaized.net/video_assets/2015/mp4/understanding-calculus/volume-mdash-the-disk-method/1148423545001_3696466529001_18170-anon-eastbaymedia-drm-courses-1007-m4v-TGC-1007-Lect30-HighSchoolLevelCalculus.mp4\"\n",
      "[1] \"http://vtgcmp4-snagfilms.akamaized.net/video_assets/2015/mp4/understanding-calculus/volume-mdash-the-disk-method/1148423545001_3696466529001_18170-anon-eastbaymedia-drm-courses-1007-m4v-TGC-1007-Lect30-HighSchoolLevelCalculus.mp4\"\n",
      "[1] \"http://vtgcmp4-viewlift.akamaized.net/Captions/SRT/1007_SRT/1007_30.srt\"\n",
      "[1] \"https://vtgcmp4-snagfilms.akamaized.net/video_assets/2015/mp4/understanding-calculus/volume-mdash-the-shell-method/1148423545001_3696471364001_18170-anon-eastbaymedia-drm-courses-1007-m4v-TGC-1007-Lect31-HighSchoolLevelCalculus.mp4\"\n",
      "[1] \"http://vtgcmp4-snagfilms.akamaized.net/video_assets/2015/mp4/understanding-calculus/volume-mdash-the-shell-method/1148423545001_3696471364001_18170-anon-eastbaymedia-drm-courses-1007-m4v-TGC-1007-Lect31-HighSchoolLevelCalculus.mp4\"\n",
      "[1] \"http://vtgcmp4-viewlift.akamaized.net/Captions/SRT/1007_SRT/1007_31.srt\"\n",
      "[1] \"https://vtgcmp4-snagfilms.akamaized.net/video_assets/2015/mp4/understanding-calculus/applications-mdash-arc-length-and-surface-area/1148423545001_3696491512001_18170-anon-eastbaymedia-drm-courses-1007-m4v-TGC-1007-Lect32-HighSchoolLevelCalculus.mp4\"\n",
      "[1] \"http://vtgcmp4-snagfilms.akamaized.net/video_assets/2015/mp4/understanding-calculus/applications-mdash-arc-length-and-surface-area/1148423545001_3696491512001_18170-anon-eastbaymedia-drm-courses-1007-m4v-TGC-1007-Lect32-HighSchoolLevelCalculus.mp4\"\n",
      "[1] \"http://vtgcmp4-viewlift.akamaized.net/Captions/SRT/1007_SRT/1007_32.srt\"\n",
      "[1] \"https://vtgcmp4-snagfilms.akamaized.net/video_assets/2015/mp4/understanding-calculus/basic-integration-rules/1148423545001_3696498831001_18170-anon-eastbaymedia-drm-courses-1007-m4v-TGC-1007-Lect33-HighSchoolLevelCalculus.mp4\"\n",
      "[1] \"http://vtgcmp4-snagfilms.akamaized.net/video_assets/2015/mp4/understanding-calculus/basic-integration-rules/1148423545001_3696498831001_18170-anon-eastbaymedia-drm-courses-1007-m4v-TGC-1007-Lect33-HighSchoolLevelCalculus.mp4\"\n",
      "[1] \"http://vtgcmp4-viewlift.akamaized.net/Captions/SRT/1007_SRT/1007_33.srt\"\n",
      "[1] \"https://vtgcmp4-snagfilms.akamaized.net/video_assets/2015/mp4/understanding-calculus/other-techniques-of-integration/1148423545001_3696471396001_18170-anon-eastbaymedia-drm-courses-1007-m4v-TGC-1007-Lect34-HighSchoolLevelCalculus.mp4\"\n",
      "[1] \"http://vtgcmp4-snagfilms.akamaized.net/video_assets/2015/mp4/understanding-calculus/other-techniques-of-integration/1148423545001_3696471396001_18170-anon-eastbaymedia-drm-courses-1007-m4v-TGC-1007-Lect34-HighSchoolLevelCalculus.mp4\"\n",
      "[1] \"http://vtgcmp4-viewlift.akamaized.net/Captions/SRT/1007_SRT/1007_34.srt\"\n",
      "[1] \"https://vtgcmp4-snagfilms.akamaized.net/video_assets/2015/mp4/understanding-calculus/differential-equations-and-slope-fields/1148423545001_3696491488001_18170-anon-eastbaymedia-drm-courses-1007-m4v-TGC-1007-Lect35-HighSchoolLevelCalculus.mp4\"\n",
      "[1] \"http://vtgcmp4-snagfilms.akamaized.net/video_assets/2015/mp4/understanding-calculus/differential-equations-and-slope-fields/1148423545001_3696491488001_18170-anon-eastbaymedia-drm-courses-1007-m4v-TGC-1007-Lect35-HighSchoolLevelCalculus.mp4\"\n",
      "[1] \"http://vtgcmp4-viewlift.akamaized.net/Captions/SRT/1007_SRT/1007_35.srt\"\n",
      "[1] \"https://vtgcmp4-snagfilms.akamaized.net/video_assets/2015/mp4/understanding-calculus/applications-of-differential-equations/1148423545001_3696488415001_18170-anon-eastbaymedia-drm-courses-1007-m4v-TGC-1007-Lect36-HighSchoolLevelCalculus.mp4\"\n",
      "[1] \"http://vtgcmp4-snagfilms.akamaized.net/video_assets/2015/mp4/understanding-calculus/applications-of-differential-equations/1148423545001_3696488415001_18170-anon-eastbaymedia-drm-courses-1007-m4v-TGC-1007-Lect36-HighSchoolLevelCalculus.mp4\"\n",
      "[1] \"http://vtgcmp4-viewlift.akamaized.net/Captions/SRT/1007_SRT/1007_36.srt\"\n"
     ]
    }
   ],
   "source": [
    "for(i in 26:36){\n",
    "    lecture_url <- tbl[i,2]\n",
    "    remDr$navigate(lecture_url)\n",
    "    remDr$getTitle()\n",
    "    \n",
    "    film_info <- remDr$findElement(using=\"xpath\", '//*[@id=\"snagHtml5Player\"]/div[2]/video')\n",
    "    film_url <- film_info$getElementAttribute(\"src\")\n",
    "    old_url <- gsub(pattern = \"\\\\?.*\", replacement = \"\", x = film_url[[1]])\n",
    "    print(old_url)\n",
    "    new_url <- gsub(pattern = \"[0-9]*kbps\", replacement = \"9216kbps\", x = old_url)\n",
    "    new_url <- gsub(pattern = \"https://\", replacement = \"http://\", x = new_url)\n",
    "    print(new_url)\n",
    "    sub_url <- paste0(\"http://vtgcmp4-viewlift.akamaized.net/Captions/SRT/\",course_id,\"_SRT/\",course_id,\"_\",str_pad(i,2,pad=0),\".srt\")\n",
    "    print(sub_url)\n",
    "    new_title <- gsub(pattern = \"[:?/]\", replacement = \"\", x = tbl[i,1])\n",
    "    download.file(new_url, destfile = paste0(i,\". \", new_title,\".mp4\"), method = \"curl\")\n",
    "    download.file(sub_url, destfile = paste0(course_id,\"_\",str_pad(i,2,pad=0),\".srt\"))\n",
    "    \n",
    "    #mp4 <- list.files(pattern = \".mp4\")\n",
    "    #srt <- list.files(pattern = \".srt\")\n",
    "    #drive_upload(media = mp4, path = paste0(gd$path, mp4))\n",
    "    #drive_upload(media = srt, path = paste0(gd$path, srt))\n",
    "    #file.remove(mp4)\n",
    "    #file.remove(srt)\n",
    "}"
   ]
  }
 ],
 "metadata": {
  "kernelspec": {
   "display_name": "R",
   "language": "R",
   "name": "ir"
  },
  "language_info": {
   "codemirror_mode": "r",
   "file_extension": ".r",
   "mimetype": "text/x-r-source",
   "name": "R",
   "pygments_lexer": "r",
   "version": "3.4.3"
  }
 },
 "nbformat": 4,
 "nbformat_minor": 2
}
